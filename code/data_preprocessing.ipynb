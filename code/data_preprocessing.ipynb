{
 "cells": [
  {
   "cell_type": "code",
   "execution_count": 10,
   "metadata": {
    "collapsed": true
   },
   "outputs": [],
   "source": [
    "import pandas as pd\n",
    "from pathlib import Path\n",
    "% load_ext autoreload\n",
    "% autoreload 2\n",
    "\n",
    "path_root = Path().absolute().parent.resolve()"
   ]
  },
  {
   "cell_type": "code",
   "execution_count": null,
   "outputs": [],
   "source": [
    "def lag_var(df: pd.DataFrame, columns: list, lag: int = 1) -> pd.DataFrame:\n",
    "    \"\"\"\n",
    "    lag the Series `lag` times\n",
    "    df: dataframe to create lags in\n",
    "    columns: list of columns, where this should be applied to\n",
    "    !warning! drops na columns, which shortens df\n",
    "    \"\"\"\n",
    "    for col in columns:\n",
    "        df = pd.concat([df] + [df[col].shift(lag).rename(f'{df[col].name}_{lag + 1}') for lag in range(lag)],\n",
    "                       axis=1)\n",
    "    return df.dropna()\n",
    "\n",
    "\n",
    "def filter_non_log_vals_from_df(df):\n",
    "    # filter non-log values so they aren't duplicated in the data\n",
    "    drop_list = [col.replace(\"_log\", \"\") for col in df.loc[:, df.columns.str.contains(\"log\")].columns]\n",
    "    df.drop(drop_list, axis=1, inplace=True)\n",
    "    return df"
   ],
   "metadata": {
    "collapsed": false,
    "pycharm": {
     "name": "#%%\n"
    }
   }
  },
  {
   "cell_type": "code",
   "execution_count": null,
   "outputs": [],
   "source": [
    "def simple_split(df):\n",
    "    \"\"\"\n",
    "    manual split: train: 2010-2017, validation: 2018, test: 2019-2020 (because of corona)\n",
    "    (73/9/18 or 8y/1y/2y)\n",
    "    \"\"\"\n",
    "    splits = {\n",
    "        \"train\": slice(\"2010\", \"2016\"),\n",
    "        \"val\": slice(\"2017\", \"2018\"),\n",
    "        \"test\": slice(\"2019\", None)\n",
    "    }\n",
    "    return splits"
   ],
   "metadata": {
    "collapsed": false,
    "pycharm": {
     "name": "#%%\n"
    }
   }
  },
  {
   "cell_type": "code",
   "execution_count": 26,
   "outputs": [],
   "source": [
    "class LaggedLogStockDataLoader:\n",
    "    \"\"\"\n",
    "    simplified version of the Data Loader for jupyter notebooks -> function calls got flattened\n",
    "    This data_loader converts the raw dataset into a train-val-test split, by first cleaning the data\n",
    "    dropping irrelevant columns and empty rows and then lagging necessary parameters.\n",
    "    \"\"\"\n",
    "\n",
    "    def __init__(self, path_data=None, drop_na=True, split_fn=simple_split, load=False):\n",
    "        self.df = None\n",
    "        self.y_columns = [\"outcome_rv\", \"outcome_rv_log\"]\n",
    "        try:\n",
    "            self.splits = split_fn(self.df)\n",
    "        except Exception as e:\n",
    "            raise Exception(\"Split not implemented\") from e\n",
    "\n",
    "        if path_data:\n",
    "            self.path_data = path_data\n",
    "        else:\n",
    "            self.path_data = path_root / \"resources\" / \"raw\" / \"BAC.csv\"\n",
    "        if load:\n",
    "            # load the data from a hdf5 instead of initializing it from a csv\n",
    "            self.load()\n",
    "        else:\n",
    "            # try to load a csv and process it\n",
    "            self.from_csv(drop_na, split_fn)\n",
    "\n",
    "    def from_csv(self, drop_na, split_fn):\n",
    "        self.df = pd.read_csv(self.path_data, parse_dates=[\"DT\"])\n",
    "        # data cleanup - regularize lag_rv_day to lag_rv_day_1\n",
    "        self.df.rename(columns={\"lag_rv_day\": \"lag_rv_day_1\", \"lag_rv_day_log\": \"lag_rv_day_log_1\"}, inplace=True)\n",
    "        # data cleanup - drop rf because the data is broken and 3month, because it has too many Na values\n",
    "        self.df.drop([\"rf\", \"lag_rv_3month\", \"lag_rv_3month_log\"], axis=1, inplace=True)\n",
    "        # set index to DT to get datetimeindexes (required for simple splits) and remove the variable from the table\n",
    "        self.df.set_index(\"DT\", inplace=True)\n",
    "        # drop na values\n",
    "        self.df = filter_non_log_vals_from_df(self.df)\n",
    "        if drop_na:\n",
    "            self.df = self.df.dropna()\n",
    "        # lag relevant parameters\n",
    "        self.df = lag_var(self.df, [\"lag_rv_week_log\", \"lag_rv_month_log\"], 21)\n",
    "\n",
    "    def _get_x(self, df):\n",
    "        \"\"\"\n",
    "        return passed df with only X columns\n",
    "        \"\"\"\n",
    "        return df[df.columns.difference(self.y_columns)]\n",
    "\n",
    "    def _get_y(self, df):\n",
    "        \"\"\"\n",
    "        return passed df with only Y columns\n",
    "        \"\"\"\n",
    "        return df[[x for x in self.y_columns if x in df]]\n",
    "\n",
    "    def _get_data(self, data_name):\n",
    "        \"\"\"\n",
    "        :param data_name: name of split to get \"train\", \"val\" or \"test\"\n",
    "        :return Tuple: the dataset as a X,Y tuple\n",
    "        \"\"\"\n",
    "        return self._get_x(self.df[self.splits[data_name]]), self._get_y(self.df[self.splits[data_name]])\n",
    "\n",
    "    def get_train_data(self):\n",
    "        return self._get_data(\"train\")\n",
    "\n",
    "    def get_validation_data(self):\n",
    "        return self._get_data(\"val\")\n",
    "\n",
    "    def get_test_data(self):\n",
    "        return self._get_data(\"test\")\n",
    "\n",
    "    def get_labels(self):\n",
    "        return [x for x in self.df.columns]\n",
    "\n",
    "    def get_df(self):\n",
    "        return self.df\n",
    "\n",
    "    def save(self, path_save):\n",
    "        \"\"\"\n",
    "        save the data split as hdf5\n",
    "        :param Path path_save: where to save the hdf5 (along with the file name\n",
    "        :return Bool success\n",
    "        \"\"\"\n",
    "        hdf = path_save\n",
    "        # since we will be using lots of jupyter notebooks, it will simplify our work to redundantly save the datasplits, instead of importing the dataloader (which would be the better solution)\n",
    "        x_train, y_train = self.get_train_data()\n",
    "        x_val, y_val = self.get_validation_data()\n",
    "        x_test, y_test = self.get_test_data()\n",
    "        self.df.to_hdf(hdf, key=\"df\")\n",
    "        x_train.to_hdf(hdf, key=\"x_train\")\n",
    "        x_val.to_hdf(hdf, key=\"x_val\")\n",
    "        x_test.to_hdf(hdf, key=\"x_test\")\n",
    "        y_train.to_hdf(hdf, key=\"y_train\")\n",
    "        y_val.to_hdf(hdf, key=\"y_val\")\n",
    "        y_test.to_hdf(hdf, key=\"y_test\")\n",
    "\n",
    "    def load(self):\n",
    "        \"\"\"\n",
    "        load the datasets from a hdf5 file\n",
    "        :return Bool: success\n",
    "        \"\"\"\n",
    "        with pd.HDFStore(self.path_data.as_posix()) as store:\n",
    "            self.df = store[\"df\"]\n",
    "\n",
    "\n",
    "data_loader = LaggedLogStockDataLoader()"
   ],
   "metadata": {
    "collapsed": false,
    "pycharm": {
     "name": "#%%\n"
    }
   }
  },
  {
   "cell_type": "markdown",
   "source": [
    "Now we can load the data using the data_loader and easily access the splits"
   ],
   "metadata": {
    "collapsed": false
   }
  },
  {
   "cell_type": "code",
   "execution_count": 21,
   "outputs": [],
   "source": [
    "data_train = data_loader.get_train_data()  # returns (X,Y) for training\n",
    "data_val = data_loader.get_validation_data()  # returns (X,Y) for validation\n",
    "data_test = data_loader.get_test_data()  # returns (X,Y) for test"
   ],
   "metadata": {
    "collapsed": false,
    "pycharm": {
     "name": "#%%\n"
    }
   }
  },
  {
   "cell_type": "markdown",
   "source": [
    "If we want to skip this step later or work on the data without having to get the dataloader, we can use `data_loader.save()` to store the processed dataframe in a hdf5 store (only df is stored, not the splits)"
   ],
   "metadata": {
    "collapsed": false
   }
  },
  {
   "cell_type": "code",
   "execution_count": 27,
   "outputs": [],
   "source": [
    "path_to_save = path_root / \"resources\" / \"formatted\" / \"data_formatted.h5\"\n",
    "data_loader.save(path_to_save)"
   ],
   "metadata": {
    "collapsed": false,
    "pycharm": {
     "name": "#%%\n"
    }
   }
  },
  {
   "cell_type": "markdown",
   "source": [
    "They can be retrieved by the data_loader as well, which gives easy access to the get_X_data() methods"
   ],
   "metadata": {
    "collapsed": false
   }
  },
  {
   "cell_type": "code",
   "execution_count": 25,
   "outputs": [
    {
     "data": {
      "text/plain": "             hml  lag_rv_day_log_1  lag_rv_day_log_10  lag_rv_day_log_11  \\\nDT                                                                         \n2010-03-04  0.29         -9.253527          -8.762848          -7.970345   \n2010-03-05 -0.04         -9.057764          -8.591706          -8.762848   \n2010-03-08  0.35         -9.311731          -7.856689          -8.591706   \n2010-03-09  0.08         -8.644398          -8.349784          -7.856689   \n2010-03-10 -0.18         -8.272543          -8.481787          -8.349784   \n...          ...               ...                ...                ...   \n2016-12-23  0.37         -9.967327          -8.380038          -8.828062   \n2016-12-27  0.02        -10.189039          -8.347459          -8.380038   \n2016-12-28 -0.04         -9.593441          -6.817204          -8.347459   \n2016-12-29  0.28         -9.031711          -8.315707          -6.817204   \n2016-12-30  0.03         -9.031378          -8.669795          -8.315707   \n\n            lag_rv_day_log_12  lag_rv_day_log_13  lag_rv_day_log_14  \\\nDT                                                                    \n2010-03-04          -8.109983          -8.220418          -8.100960   \n2010-03-05          -7.970345          -8.109983          -8.220418   \n2010-03-08          -8.762848          -7.970345          -8.109983   \n2010-03-09          -8.591706          -8.762848          -7.970345   \n2010-03-10          -7.856689          -8.591706          -8.762848   \n...                       ...                ...                ...   \n2016-12-23          -8.184177          -8.752170          -8.728730   \n2016-12-27          -8.828062          -8.184177          -8.752170   \n2016-12-28          -8.380038          -8.828062          -8.184177   \n2016-12-29          -8.347459          -8.380038          -8.828062   \n2016-12-30          -6.817204          -8.347459          -8.380038   \n\n            lag_rv_day_log_15  lag_rv_day_log_16  lag_rv_day_log_17  ...  \\\nDT                                                                   ...   \n2010-03-04          -8.246101          -7.744577          -7.212612  ...   \n2010-03-05          -8.100960          -8.246101          -7.744577  ...   \n2010-03-08          -8.220418          -8.100960          -8.246101  ...   \n2010-03-09          -8.109983          -8.220418          -8.100960  ...   \n2010-03-10          -7.970345          -8.109983          -8.220418  ...   \n...                       ...                ...                ...  ...   \n2016-12-23          -8.771433          -8.130522          -8.136835  ...   \n2016-12-27          -8.728730          -8.771433          -8.130522  ...   \n2016-12-28          -8.752170          -8.728730          -8.771433  ...   \n2016-12-29          -8.184177          -8.752170          -8.728730  ...   \n2016-12-30          -8.828062          -8.184177          -8.752170  ...   \n\n            lag_rv_week_log_9  liquidity_day_log  liquidity_month_log  \\\nDT                                                                      \n2010-03-04          -8.331060          10.310252            10.760061   \n2010-03-05          -8.258314          10.580429            10.760227   \n2010-03-08          -8.306274          10.294820            10.751980   \n2010-03-09          -8.408563          10.598508            10.727887   \n2010-03-10          -8.396254          11.107075            10.725954   \n...                       ...                ...                  ...   \n2016-12-23          -8.498381           9.982299            10.786081   \n2016-12-27          -8.111388           9.953563            10.753325   \n2016-12-28          -8.137694          10.130424            10.743454   \n2016-12-29          -8.106040          10.553962            10.739353   \n2016-12-30          -8.195215          10.348334            10.719384   \n\n            liquidity_week_log  mktMinusRiskfree  return_sign_day  \\\nDT                                                                  \n2010-03-04           10.571604              0.15                0   \n2010-03-05           10.497638              0.30                1   \n2010-03-08           10.444478              1.42                0   \n2010-03-09           10.448592              0.03                1   \n2010-03-10           10.578217              0.13                1   \n...                        ...               ...              ...   \n2016-12-23           10.373212             -0.31                1   \n2016-12-27           10.210106              0.01                0   \n2016-12-28           10.169306              0.21                0   \n2016-12-29           10.213636             -0.78                0   \n2016-12-30           10.193716              0.02                1   \n\n            return_sign_month  return_sign_week   smb   vix_log  \nDT                                                               \n2010-03-04                1.0               0.0  0.09  2.929592  \n2010-03-05                1.0               0.0  0.07  2.857619  \n2010-03-08                1.0               0.0  0.39  2.878637  \n2010-03-09                1.0               1.0  0.10  2.885917  \n2010-03-10                1.0               1.0  0.29  2.921547  \n...                       ...               ...   ...       ...  \n2016-12-23                1.0               0.0 -0.77  2.437116  \n2016-12-27                1.0               0.0  0.01  2.484073  \n2016-12-28                0.0               0.0  0.15  2.561096  \n2016-12-29                0.0               0.0 -0.21  2.593013  \n2016-12-30                0.0               0.0  0.22  2.641910  \n\n[1720 rows x 75 columns]",
      "text/html": "<div>\n<style scoped>\n    .dataframe tbody tr th:only-of-type {\n        vertical-align: middle;\n    }\n\n    .dataframe tbody tr th {\n        vertical-align: top;\n    }\n\n    .dataframe thead th {\n        text-align: right;\n    }\n</style>\n<table border=\"1\" class=\"dataframe\">\n  <thead>\n    <tr style=\"text-align: right;\">\n      <th></th>\n      <th>hml</th>\n      <th>lag_rv_day_log_1</th>\n      <th>lag_rv_day_log_10</th>\n      <th>lag_rv_day_log_11</th>\n      <th>lag_rv_day_log_12</th>\n      <th>lag_rv_day_log_13</th>\n      <th>lag_rv_day_log_14</th>\n      <th>lag_rv_day_log_15</th>\n      <th>lag_rv_day_log_16</th>\n      <th>lag_rv_day_log_17</th>\n      <th>...</th>\n      <th>lag_rv_week_log_9</th>\n      <th>liquidity_day_log</th>\n      <th>liquidity_month_log</th>\n      <th>liquidity_week_log</th>\n      <th>mktMinusRiskfree</th>\n      <th>return_sign_day</th>\n      <th>return_sign_month</th>\n      <th>return_sign_week</th>\n      <th>smb</th>\n      <th>vix_log</th>\n    </tr>\n    <tr>\n      <th>DT</th>\n      <th></th>\n      <th></th>\n      <th></th>\n      <th></th>\n      <th></th>\n      <th></th>\n      <th></th>\n      <th></th>\n      <th></th>\n      <th></th>\n      <th></th>\n      <th></th>\n      <th></th>\n      <th></th>\n      <th></th>\n      <th></th>\n      <th></th>\n      <th></th>\n      <th></th>\n      <th></th>\n      <th></th>\n    </tr>\n  </thead>\n  <tbody>\n    <tr>\n      <th>2010-03-04</th>\n      <td>0.29</td>\n      <td>-9.253527</td>\n      <td>-8.762848</td>\n      <td>-7.970345</td>\n      <td>-8.109983</td>\n      <td>-8.220418</td>\n      <td>-8.100960</td>\n      <td>-8.246101</td>\n      <td>-7.744577</td>\n      <td>-7.212612</td>\n      <td>...</td>\n      <td>-8.331060</td>\n      <td>10.310252</td>\n      <td>10.760061</td>\n      <td>10.571604</td>\n      <td>0.15</td>\n      <td>0</td>\n      <td>1.0</td>\n      <td>0.0</td>\n      <td>0.09</td>\n      <td>2.929592</td>\n    </tr>\n    <tr>\n      <th>2010-03-05</th>\n      <td>-0.04</td>\n      <td>-9.057764</td>\n      <td>-8.591706</td>\n      <td>-8.762848</td>\n      <td>-7.970345</td>\n      <td>-8.109983</td>\n      <td>-8.220418</td>\n      <td>-8.100960</td>\n      <td>-8.246101</td>\n      <td>-7.744577</td>\n      <td>...</td>\n      <td>-8.258314</td>\n      <td>10.580429</td>\n      <td>10.760227</td>\n      <td>10.497638</td>\n      <td>0.30</td>\n      <td>1</td>\n      <td>1.0</td>\n      <td>0.0</td>\n      <td>0.07</td>\n      <td>2.857619</td>\n    </tr>\n    <tr>\n      <th>2010-03-08</th>\n      <td>0.35</td>\n      <td>-9.311731</td>\n      <td>-7.856689</td>\n      <td>-8.591706</td>\n      <td>-8.762848</td>\n      <td>-7.970345</td>\n      <td>-8.109983</td>\n      <td>-8.220418</td>\n      <td>-8.100960</td>\n      <td>-8.246101</td>\n      <td>...</td>\n      <td>-8.306274</td>\n      <td>10.294820</td>\n      <td>10.751980</td>\n      <td>10.444478</td>\n      <td>1.42</td>\n      <td>0</td>\n      <td>1.0</td>\n      <td>0.0</td>\n      <td>0.39</td>\n      <td>2.878637</td>\n    </tr>\n    <tr>\n      <th>2010-03-09</th>\n      <td>0.08</td>\n      <td>-8.644398</td>\n      <td>-8.349784</td>\n      <td>-7.856689</td>\n      <td>-8.591706</td>\n      <td>-8.762848</td>\n      <td>-7.970345</td>\n      <td>-8.109983</td>\n      <td>-8.220418</td>\n      <td>-8.100960</td>\n      <td>...</td>\n      <td>-8.408563</td>\n      <td>10.598508</td>\n      <td>10.727887</td>\n      <td>10.448592</td>\n      <td>0.03</td>\n      <td>1</td>\n      <td>1.0</td>\n      <td>1.0</td>\n      <td>0.10</td>\n      <td>2.885917</td>\n    </tr>\n    <tr>\n      <th>2010-03-10</th>\n      <td>-0.18</td>\n      <td>-8.272543</td>\n      <td>-8.481787</td>\n      <td>-8.349784</td>\n      <td>-7.856689</td>\n      <td>-8.591706</td>\n      <td>-8.762848</td>\n      <td>-7.970345</td>\n      <td>-8.109983</td>\n      <td>-8.220418</td>\n      <td>...</td>\n      <td>-8.396254</td>\n      <td>11.107075</td>\n      <td>10.725954</td>\n      <td>10.578217</td>\n      <td>0.13</td>\n      <td>1</td>\n      <td>1.0</td>\n      <td>1.0</td>\n      <td>0.29</td>\n      <td>2.921547</td>\n    </tr>\n    <tr>\n      <th>...</th>\n      <td>...</td>\n      <td>...</td>\n      <td>...</td>\n      <td>...</td>\n      <td>...</td>\n      <td>...</td>\n      <td>...</td>\n      <td>...</td>\n      <td>...</td>\n      <td>...</td>\n      <td>...</td>\n      <td>...</td>\n      <td>...</td>\n      <td>...</td>\n      <td>...</td>\n      <td>...</td>\n      <td>...</td>\n      <td>...</td>\n      <td>...</td>\n      <td>...</td>\n      <td>...</td>\n    </tr>\n    <tr>\n      <th>2016-12-23</th>\n      <td>0.37</td>\n      <td>-9.967327</td>\n      <td>-8.380038</td>\n      <td>-8.828062</td>\n      <td>-8.184177</td>\n      <td>-8.752170</td>\n      <td>-8.728730</td>\n      <td>-8.771433</td>\n      <td>-8.130522</td>\n      <td>-8.136835</td>\n      <td>...</td>\n      <td>-8.498381</td>\n      <td>9.982299</td>\n      <td>10.786081</td>\n      <td>10.373212</td>\n      <td>-0.31</td>\n      <td>1</td>\n      <td>1.0</td>\n      <td>0.0</td>\n      <td>-0.77</td>\n      <td>2.437116</td>\n    </tr>\n    <tr>\n      <th>2016-12-27</th>\n      <td>0.02</td>\n      <td>-10.189039</td>\n      <td>-8.347459</td>\n      <td>-8.380038</td>\n      <td>-8.828062</td>\n      <td>-8.184177</td>\n      <td>-8.752170</td>\n      <td>-8.728730</td>\n      <td>-8.771433</td>\n      <td>-8.130522</td>\n      <td>...</td>\n      <td>-8.111388</td>\n      <td>9.953563</td>\n      <td>10.753325</td>\n      <td>10.210106</td>\n      <td>0.01</td>\n      <td>0</td>\n      <td>1.0</td>\n      <td>0.0</td>\n      <td>0.01</td>\n      <td>2.484073</td>\n    </tr>\n    <tr>\n      <th>2016-12-28</th>\n      <td>-0.04</td>\n      <td>-9.593441</td>\n      <td>-6.817204</td>\n      <td>-8.347459</td>\n      <td>-8.380038</td>\n      <td>-8.828062</td>\n      <td>-8.184177</td>\n      <td>-8.752170</td>\n      <td>-8.728730</td>\n      <td>-8.771433</td>\n      <td>...</td>\n      <td>-8.137694</td>\n      <td>10.130424</td>\n      <td>10.743454</td>\n      <td>10.169306</td>\n      <td>0.21</td>\n      <td>0</td>\n      <td>0.0</td>\n      <td>0.0</td>\n      <td>0.15</td>\n      <td>2.561096</td>\n    </tr>\n    <tr>\n      <th>2016-12-29</th>\n      <td>0.28</td>\n      <td>-9.031711</td>\n      <td>-8.315707</td>\n      <td>-6.817204</td>\n      <td>-8.347459</td>\n      <td>-8.380038</td>\n      <td>-8.828062</td>\n      <td>-8.184177</td>\n      <td>-8.752170</td>\n      <td>-8.728730</td>\n      <td>...</td>\n      <td>-8.106040</td>\n      <td>10.553962</td>\n      <td>10.739353</td>\n      <td>10.213636</td>\n      <td>-0.78</td>\n      <td>0</td>\n      <td>0.0</td>\n      <td>0.0</td>\n      <td>-0.21</td>\n      <td>2.593013</td>\n    </tr>\n    <tr>\n      <th>2016-12-30</th>\n      <td>0.03</td>\n      <td>-9.031378</td>\n      <td>-8.669795</td>\n      <td>-8.315707</td>\n      <td>-6.817204</td>\n      <td>-8.347459</td>\n      <td>-8.380038</td>\n      <td>-8.828062</td>\n      <td>-8.184177</td>\n      <td>-8.752170</td>\n      <td>...</td>\n      <td>-8.195215</td>\n      <td>10.348334</td>\n      <td>10.719384</td>\n      <td>10.193716</td>\n      <td>0.02</td>\n      <td>1</td>\n      <td>0.0</td>\n      <td>0.0</td>\n      <td>0.22</td>\n      <td>2.641910</td>\n    </tr>\n  </tbody>\n</table>\n<p>1720 rows × 75 columns</p>\n</div>"
     },
     "execution_count": 25,
     "metadata": {},
     "output_type": "execute_result"
    }
   ],
   "source": [
    "data_loader = LaggedLogStockDataLoader(path_to_save, load=True)\n",
    "data_loader.get_train_data()[0]"
   ],
   "metadata": {
    "collapsed": false,
    "pycharm": {
     "name": "#%%\n"
    }
   }
  }
 ],
 "metadata": {
  "kernelspec": {
   "display_name": "Python 3",
   "language": "python",
   "name": "python3"
  },
  "language_info": {
   "codemirror_mode": {
    "name": "ipython",
    "version": 2
   },
   "file_extension": ".py",
   "mimetype": "text/x-python",
   "name": "python",
   "nbconvert_exporter": "python",
   "pygments_lexer": "ipython2",
   "version": "2.7.6"
  }
 },
 "nbformat": 4,
 "nbformat_minor": 0
}